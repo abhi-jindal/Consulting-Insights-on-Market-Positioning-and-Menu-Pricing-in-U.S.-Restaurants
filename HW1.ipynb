{
  "cells": [
    {
      "cell_type": "markdown",
      "metadata": {
        "id": "view-in-github",
        "colab_type": "text"
      },
      "source": [
        "<a href=\"https://colab.research.google.com/github/abhi-jindal/Consulting-Insights-on-Market-Positioning-and-Menu-Pricing-in-U.S.-Restaurants/blob/main/HW1.ipynb\" target=\"_parent\"><img src=\"https://colab.research.google.com/assets/colab-badge.svg\" alt=\"Open In Colab\"/></a>"
      ]
    },
    {
      "cell_type": "markdown",
      "source": [
        "Google Colab Notebook link:"
      ],
      "metadata": {
        "id": "Zu00cOlv_QZA"
      }
    },
    {
      "cell_type": "markdown",
      "metadata": {
        "id": "UA0TvUeGFF6n"
      },
      "source": [
        "# Homework 1 (Total 100 points)"
      ]
    },
    {
      "cell_type": "markdown",
      "source": [
        "#Homework 1\n",
        "\n",
        "## Q1. Load and examine the `Auto.csv` dataset from the course folder on Google drive. **(10 points total)**\n",
        "\n",
        "  1. Should you drop any variable from regression analysis and why? (5 points)\n",
        "  1. Which variables should be treated as numeric and which as categorical? Explain why. (5 points)\n",
        "\n",
        "Provide python code and analysis results first. Use them to support your answers to the two questions above.\n",
        "\n",
        "FYI the column definitions (from https://cran.r-project.org/web/packages/ISLR/ISLR.pdf):\n",
        "* mpg: miles per gallon (The outcome, or y, variable)\n",
        "* cylinders: Number of cylinders between 4 and 8\n",
        "* displacement: Engine displacement (cu. inches)\n",
        "* horsepower: Engine horsepower\n",
        "* weight: Vehicle weight (lbs.)\n",
        "* acceleration: Time to accelerate from 0 to 60 mph (sec.)\n",
        "* year: Model year (modulo 100)\n",
        "* origin: Origin of car (1. American, 2. European, 3. Japanese)\n",
        "* name: Vehicle name\n"
      ],
      "metadata": {
        "id": "pyjIb20UgBpg"
      }
    },
    {
      "cell_type": "code",
      "source": [],
      "metadata": {
        "id": "lGKspiXG9dHU"
      },
      "execution_count": null,
      "outputs": []
    },
    {
      "cell_type": "markdown",
      "source": [
        "## Q2. Scatter and explore. **(20 points total)**\n",
        "1. Plot all the pairwise scatter plots and histograms for the numeric features. (10 points)\n",
        "1. Discuss two interesting relationships that you notice. (10 points)"
      ],
      "metadata": {
        "id": "NulyfAVnkLTS"
      }
    },
    {
      "cell_type": "code",
      "source": [],
      "metadata": {
        "id": "o9F1EDJt9ceZ"
      },
      "execution_count": null,
      "outputs": []
    },
    {
      "cell_type": "markdown",
      "source": [
        "## Q3. Compute the correlation matrix among the numeric variables. Discuss one interesting correlation. (10+10=**20 points total**)"
      ],
      "metadata": {
        "id": "AHKO4BWfmIz1"
      }
    },
    {
      "cell_type": "code",
      "source": [],
      "metadata": {
        "id": "Lvcd73QA9d1l"
      },
      "execution_count": null,
      "outputs": []
    },
    {
      "cell_type": "markdown",
      "source": [
        "## Q4. Use `statsmodels` to regress mpg on all other variables. Note you can tell `ols()` to treat a variable as categorical by enclosing the variable in `C()`. **(15 points total)**\n",
        "  1. Interpret the significant effects. (5 points)\n",
        "  1. Which variables don't have a significant effect? Provide potential explanation for one surprising non-effect. (5 points)\n",
        "  1. Discuss the difference in results when you treat `year` as a categorical vs a numeric variable. (5 points)"
      ],
      "metadata": {
        "id": "HmEvxdMCnw-m"
      }
    },
    {
      "cell_type": "code",
      "source": [],
      "metadata": {
        "id": "X7rQcVXE9fyh"
      },
      "execution_count": null,
      "outputs": []
    },
    {
      "cell_type": "markdown",
      "source": [
        "## Q5. From the above regression model in Q4, include two way interactions between a numeric and categorical variable in three different regression models (three separate models in total). Do any of them appear significant? Discuss the results. **(15 points total)**\n"
      ],
      "metadata": {
        "id": "Hdst6gvGu7kM"
      }
    },
    {
      "cell_type": "code",
      "source": [],
      "metadata": {
        "id": "lxbw_bdt9jzJ"
      },
      "execution_count": null,
      "outputs": []
    },
    {
      "cell_type": "markdown",
      "source": [
        "## Q6. Measure the in-sample and out of sample $R^2$ of the model specified in Q4.1 using 80% data for training and 20% data for testing. **(10 points total)**\n",
        "\n",
        "If you run into a problem because some values of a categorical column are missing in the training set, check the parameter `handle_unknown` for the OneHotEncoding class."
      ],
      "metadata": {
        "id": "0hqA2avuvNpT"
      }
    },
    {
      "cell_type": "code",
      "source": [],
      "metadata": {
        "id": "_0s34Bpk9zul"
      },
      "execution_count": null,
      "outputs": []
    },
    {
      "cell_type": "markdown",
      "source": [
        "## Q7. Collaboration statement **(10 points total)**\n",
        "Who did you discuss while answering this homework (whether to get or to provide help)? What questions/topics did you discuss? Did you use any generative AI tool, such as ChatGPT? If so, provide your prompts.\n",
        "\n",
        "Note: No penalty for either side. While getting help in figuring out how to solve is OK, all answers should be produced by you.\n",
        "\n",
        "If you did not collaborate with anyone simply declare so.\n",
        "\n",
        "Sample answer:\n",
        "\n",
        "1. I discussed with Hazel for this homework. I needed her help with submission system and as a sounding board for the reasonableness of this homework.\n",
        "2. I used ChatGPT with the following prompt to understand how to measure out of sample $R^2$:\n",
        "> provide prompt here\n",
        "\n",
        "Then I wrote the code that is submitted in the assignment.\n",
        "\n",
        "3. I did not discuss with anyone or get any help from any generative AI tool."
      ],
      "metadata": {
        "id": "dy0Phi_NNCNh"
      }
    },
    {
      "cell_type": "markdown",
      "source": [
        "## Submit\n",
        "1. Submit your colab notebook as a pdf file. Use the code in [this notebook](https://colab.research.google.com/drive/1ZZLCXbvUS3DEpZt9fgVVhZxWMxNigu2a?usp=sharing) to convert your notebook to professional looking pdf. Do review the pdf file to make sure everything is appearing correctly before submitting!\n",
        "1. Include a link to the colab notebook in your submission and make sure to provide us (TAs and professor) access to view it.\n"
      ],
      "metadata": {
        "id": "BxY2dh65XsrX"
      }
    }
  ],
  "metadata": {
    "kernelspec": {
      "display_name": "Python 3 (ipykernel)",
      "language": "python",
      "name": "python3"
    },
    "language_info": {
      "codemirror_mode": {
        "name": "ipython",
        "version": 3
      },
      "file_extension": ".py",
      "mimetype": "text/x-python",
      "name": "python",
      "nbconvert_exporter": "python",
      "pygments_lexer": "ipython3",
      "version": "3.8.11"
    },
    "colab": {
      "provenance": [],
      "include_colab_link": true
    }
  },
  "nbformat": 4,
  "nbformat_minor": 0
}